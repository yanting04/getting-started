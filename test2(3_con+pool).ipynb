{
  "nbformat": 4,
  "nbformat_minor": 0,
  "metadata": {
    "colab": {
      "name": "test2(3 con+pool).ipynb",
      "provenance": [],
      "authorship_tag": "ABX9TyMfWk0N5aPFFDvUK2kyLNIM",
      "include_colab_link": true
    },
    "kernelspec": {
      "name": "python3",
      "display_name": "Python 3"
    },
    "language_info": {
      "name": "python"
    },
    "widgets": {
      "application/vnd.jupyter.widget-state+json": {
        "8b545ffd36084a5d86a146771ed5f293": {
          "model_module": "@jupyter-widgets/controls",
          "model_name": "HBoxModel",
          "model_module_version": "1.5.0",
          "state": {
            "_view_name": "HBoxView",
            "_dom_classes": [],
            "_model_name": "HBoxModel",
            "_view_module": "@jupyter-widgets/controls",
            "_model_module_version": "1.5.0",
            "_view_count": null,
            "_view_module_version": "1.5.0",
            "box_style": "",
            "layout": "IPY_MODEL_9fb2ef67235c462cb7a9d7c1488e01b6",
            "_model_module": "@jupyter-widgets/controls",
            "children": [
              "IPY_MODEL_a9a0e33b766843c88cfdd1c74b472f4d",
              "IPY_MODEL_616ca28cf0844d629b3c03097177eda7",
              "IPY_MODEL_ed6aa79f11234d8f8c5c840b179b4e83"
            ]
          }
        },
        "9fb2ef67235c462cb7a9d7c1488e01b6": {
          "model_module": "@jupyter-widgets/base",
          "model_name": "LayoutModel",
          "model_module_version": "1.2.0",
          "state": {
            "_view_name": "LayoutView",
            "grid_template_rows": null,
            "right": null,
            "justify_content": null,
            "_view_module": "@jupyter-widgets/base",
            "overflow": null,
            "_model_module_version": "1.2.0",
            "_view_count": null,
            "flex_flow": null,
            "width": null,
            "min_width": null,
            "border": null,
            "align_items": null,
            "bottom": null,
            "_model_module": "@jupyter-widgets/base",
            "top": null,
            "grid_column": null,
            "overflow_y": null,
            "overflow_x": null,
            "grid_auto_flow": null,
            "grid_area": null,
            "grid_template_columns": null,
            "flex": null,
            "_model_name": "LayoutModel",
            "justify_items": null,
            "grid_row": null,
            "max_height": null,
            "align_content": null,
            "visibility": null,
            "align_self": null,
            "height": null,
            "min_height": null,
            "padding": null,
            "grid_auto_rows": null,
            "grid_gap": null,
            "max_width": null,
            "order": null,
            "_view_module_version": "1.2.0",
            "grid_template_areas": null,
            "object_position": null,
            "object_fit": null,
            "grid_auto_columns": null,
            "margin": null,
            "display": null,
            "left": null
          }
        },
        "a9a0e33b766843c88cfdd1c74b472f4d": {
          "model_module": "@jupyter-widgets/controls",
          "model_name": "HTMLModel",
          "model_module_version": "1.5.0",
          "state": {
            "_view_name": "HTMLView",
            "style": "IPY_MODEL_4150f3ec9d4b49eb9e4753240fb15c69",
            "_dom_classes": [],
            "description": "",
            "_model_name": "HTMLModel",
            "placeholder": "​",
            "_view_module": "@jupyter-widgets/controls",
            "_model_module_version": "1.5.0",
            "value": "",
            "_view_count": null,
            "_view_module_version": "1.5.0",
            "description_tooltip": null,
            "_model_module": "@jupyter-widgets/controls",
            "layout": "IPY_MODEL_ec39a5bf9fbe4ed6bde04e0a1130f87c"
          }
        },
        "616ca28cf0844d629b3c03097177eda7": {
          "model_module": "@jupyter-widgets/controls",
          "model_name": "FloatProgressModel",
          "model_module_version": "1.5.0",
          "state": {
            "_view_name": "ProgressView",
            "style": "IPY_MODEL_f49f889f619c4f5087cd1d1d3bfdb734",
            "_dom_classes": [],
            "description": "",
            "_model_name": "FloatProgressModel",
            "bar_style": "success",
            "max": 170498071,
            "_view_module": "@jupyter-widgets/controls",
            "_model_module_version": "1.5.0",
            "value": 170498071,
            "_view_count": null,
            "_view_module_version": "1.5.0",
            "orientation": "horizontal",
            "min": 0,
            "description_tooltip": null,
            "_model_module": "@jupyter-widgets/controls",
            "layout": "IPY_MODEL_c14e1bca86b84eb7b710a0905b9add20"
          }
        },
        "ed6aa79f11234d8f8c5c840b179b4e83": {
          "model_module": "@jupyter-widgets/controls",
          "model_name": "HTMLModel",
          "model_module_version": "1.5.0",
          "state": {
            "_view_name": "HTMLView",
            "style": "IPY_MODEL_2d1a1b1e42674e54b8f3bf8b5fd2303f",
            "_dom_classes": [],
            "description": "",
            "_model_name": "HTMLModel",
            "placeholder": "​",
            "_view_module": "@jupyter-widgets/controls",
            "_model_module_version": "1.5.0",
            "value": " 170499072/? [00:06&lt;00:00, 33446086.47it/s]",
            "_view_count": null,
            "_view_module_version": "1.5.0",
            "description_tooltip": null,
            "_model_module": "@jupyter-widgets/controls",
            "layout": "IPY_MODEL_cbae6caa72fd4addadd3b60718282d2c"
          }
        },
        "4150f3ec9d4b49eb9e4753240fb15c69": {
          "model_module": "@jupyter-widgets/controls",
          "model_name": "DescriptionStyleModel",
          "model_module_version": "1.5.0",
          "state": {
            "_view_name": "StyleView",
            "_model_name": "DescriptionStyleModel",
            "description_width": "",
            "_view_module": "@jupyter-widgets/base",
            "_model_module_version": "1.5.0",
            "_view_count": null,
            "_view_module_version": "1.2.0",
            "_model_module": "@jupyter-widgets/controls"
          }
        },
        "ec39a5bf9fbe4ed6bde04e0a1130f87c": {
          "model_module": "@jupyter-widgets/base",
          "model_name": "LayoutModel",
          "model_module_version": "1.2.0",
          "state": {
            "_view_name": "LayoutView",
            "grid_template_rows": null,
            "right": null,
            "justify_content": null,
            "_view_module": "@jupyter-widgets/base",
            "overflow": null,
            "_model_module_version": "1.2.0",
            "_view_count": null,
            "flex_flow": null,
            "width": null,
            "min_width": null,
            "border": null,
            "align_items": null,
            "bottom": null,
            "_model_module": "@jupyter-widgets/base",
            "top": null,
            "grid_column": null,
            "overflow_y": null,
            "overflow_x": null,
            "grid_auto_flow": null,
            "grid_area": null,
            "grid_template_columns": null,
            "flex": null,
            "_model_name": "LayoutModel",
            "justify_items": null,
            "grid_row": null,
            "max_height": null,
            "align_content": null,
            "visibility": null,
            "align_self": null,
            "height": null,
            "min_height": null,
            "padding": null,
            "grid_auto_rows": null,
            "grid_gap": null,
            "max_width": null,
            "order": null,
            "_view_module_version": "1.2.0",
            "grid_template_areas": null,
            "object_position": null,
            "object_fit": null,
            "grid_auto_columns": null,
            "margin": null,
            "display": null,
            "left": null
          }
        },
        "f49f889f619c4f5087cd1d1d3bfdb734": {
          "model_module": "@jupyter-widgets/controls",
          "model_name": "ProgressStyleModel",
          "model_module_version": "1.5.0",
          "state": {
            "_view_name": "StyleView",
            "_model_name": "ProgressStyleModel",
            "description_width": "",
            "_view_module": "@jupyter-widgets/base",
            "_model_module_version": "1.5.0",
            "_view_count": null,
            "_view_module_version": "1.2.0",
            "bar_color": null,
            "_model_module": "@jupyter-widgets/controls"
          }
        },
        "c14e1bca86b84eb7b710a0905b9add20": {
          "model_module": "@jupyter-widgets/base",
          "model_name": "LayoutModel",
          "model_module_version": "1.2.0",
          "state": {
            "_view_name": "LayoutView",
            "grid_template_rows": null,
            "right": null,
            "justify_content": null,
            "_view_module": "@jupyter-widgets/base",
            "overflow": null,
            "_model_module_version": "1.2.0",
            "_view_count": null,
            "flex_flow": null,
            "width": null,
            "min_width": null,
            "border": null,
            "align_items": null,
            "bottom": null,
            "_model_module": "@jupyter-widgets/base",
            "top": null,
            "grid_column": null,
            "overflow_y": null,
            "overflow_x": null,
            "grid_auto_flow": null,
            "grid_area": null,
            "grid_template_columns": null,
            "flex": null,
            "_model_name": "LayoutModel",
            "justify_items": null,
            "grid_row": null,
            "max_height": null,
            "align_content": null,
            "visibility": null,
            "align_self": null,
            "height": null,
            "min_height": null,
            "padding": null,
            "grid_auto_rows": null,
            "grid_gap": null,
            "max_width": null,
            "order": null,
            "_view_module_version": "1.2.0",
            "grid_template_areas": null,
            "object_position": null,
            "object_fit": null,
            "grid_auto_columns": null,
            "margin": null,
            "display": null,
            "left": null
          }
        },
        "2d1a1b1e42674e54b8f3bf8b5fd2303f": {
          "model_module": "@jupyter-widgets/controls",
          "model_name": "DescriptionStyleModel",
          "model_module_version": "1.5.0",
          "state": {
            "_view_name": "StyleView",
            "_model_name": "DescriptionStyleModel",
            "description_width": "",
            "_view_module": "@jupyter-widgets/base",
            "_model_module_version": "1.5.0",
            "_view_count": null,
            "_view_module_version": "1.2.0",
            "_model_module": "@jupyter-widgets/controls"
          }
        },
        "cbae6caa72fd4addadd3b60718282d2c": {
          "model_module": "@jupyter-widgets/base",
          "model_name": "LayoutModel",
          "model_module_version": "1.2.0",
          "state": {
            "_view_name": "LayoutView",
            "grid_template_rows": null,
            "right": null,
            "justify_content": null,
            "_view_module": "@jupyter-widgets/base",
            "overflow": null,
            "_model_module_version": "1.2.0",
            "_view_count": null,
            "flex_flow": null,
            "width": null,
            "min_width": null,
            "border": null,
            "align_items": null,
            "bottom": null,
            "_model_module": "@jupyter-widgets/base",
            "top": null,
            "grid_column": null,
            "overflow_y": null,
            "overflow_x": null,
            "grid_auto_flow": null,
            "grid_area": null,
            "grid_template_columns": null,
            "flex": null,
            "_model_name": "LayoutModel",
            "justify_items": null,
            "grid_row": null,
            "max_height": null,
            "align_content": null,
            "visibility": null,
            "align_self": null,
            "height": null,
            "min_height": null,
            "padding": null,
            "grid_auto_rows": null,
            "grid_gap": null,
            "max_width": null,
            "order": null,
            "_view_module_version": "1.2.0",
            "grid_template_areas": null,
            "object_position": null,
            "object_fit": null,
            "grid_auto_columns": null,
            "margin": null,
            "display": null,
            "left": null
          }
        }
      }
    }
  },
  "cells": [
    {
      "cell_type": "markdown",
      "metadata": {
        "id": "view-in-github",
        "colab_type": "text"
      },
      "source": [
        "<a href=\"https://colab.research.google.com/github/yanting04/getting-started/blob/master/test2(3_con%2Bpool).ipynb\" target=\"_parent\"><img src=\"https://colab.research.google.com/assets/colab-badge.svg\" alt=\"Open In Colab\"/></a>"
      ]
    },
    {
      "cell_type": "code",
      "source": [
        ""
      ],
      "metadata": {
        "id": "4lSrHmmUOV2l"
      },
      "execution_count": null,
      "outputs": []
    },
    {
      "cell_type": "code",
      "execution_count": 2,
      "metadata": {
        "colab": {
          "base_uri": "https://localhost:8080/",
          "height": 134,
          "referenced_widgets": [
            "8b545ffd36084a5d86a146771ed5f293",
            "9fb2ef67235c462cb7a9d7c1488e01b6",
            "a9a0e33b766843c88cfdd1c74b472f4d",
            "616ca28cf0844d629b3c03097177eda7",
            "ed6aa79f11234d8f8c5c840b179b4e83",
            "4150f3ec9d4b49eb9e4753240fb15c69",
            "ec39a5bf9fbe4ed6bde04e0a1130f87c",
            "f49f889f619c4f5087cd1d1d3bfdb734",
            "c14e1bca86b84eb7b710a0905b9add20",
            "2d1a1b1e42674e54b8f3bf8b5fd2303f",
            "cbae6caa72fd4addadd3b60718282d2c"
          ]
        },
        "id": "QWFYu97Ror93",
        "outputId": "7d0cdb29-1b3b-4b46-c91a-2bf7218dc86f"
      },
      "outputs": [
        {
          "output_type": "stream",
          "name": "stdout",
          "text": [
            "Downloading https://www.cs.toronto.edu/~kriz/cifar-10-python.tar.gz to data/cifar-10-python.tar.gz\n"
          ]
        },
        {
          "output_type": "display_data",
          "data": {
            "application/vnd.jupyter.widget-view+json": {
              "model_id": "8b545ffd36084a5d86a146771ed5f293",
              "version_minor": 0,
              "version_major": 2
            },
            "text/plain": [
              "  0%|          | 0/170498071 [00:00<?, ?it/s]"
            ]
          },
          "metadata": {}
        },
        {
          "output_type": "stream",
          "name": "stdout",
          "text": [
            "Extracting data/cifar-10-python.tar.gz to data\n",
            "Files already downloaded and verified\n",
            "train loss: 74%\n",
            "test loss: 73%\n"
          ]
        }
      ],
      "source": [
        "import torch\n",
        "import torchvision\n",
        "import torchvision.transforms as transforms\n",
        "import torch.nn as nn\n",
        "import torch.optim as optim\n",
        "from torch.utils.data.sampler import SubsetRandomSampler\n",
        "import numpy as np\n",
        " \n",
        "\n",
        " \n",
        "transform=transforms.Compose([\n",
        "    transforms.RandomHorizontalFlip(),   \n",
        "    transforms.RandomGrayscale(),   \n",
        "    transforms.ToTensor(),  \n",
        "    transforms.Normalize((0.5,0.5,0.5),(0.5,0.5,0.5))])   \n",
        " \n",
        "\n",
        "trainset=torchvision.datasets.CIFAR10('data',train=True,\n",
        "                                      download=True,\n",
        "                                      transform=transform)\n",
        "testset=torchvision.datasets.CIFAR10('data',train=False,\n",
        "                                     download=True,\n",
        "                                     transform=transform)\n",
        "\n",
        "trainloader=torch.utils.data.DataLoader(trainset,batch_size=16,\n",
        "                                        shuffle=True,\n",
        "                                        num_workers=2)   \n",
        "testloader=torch.utils.data.DataLoader(testset,batch_size=16,\n",
        "                                       shuffle=True,\n",
        "                                        num_workers=2)\n",
        "classes=('plane','car','bird','cat','deer','dog','frog','horse','ship','truck')\n",
        " \n",
        "class Net(nn.Module):\n",
        "    def __init__(self):\n",
        "        super(Net,self).__init__()\n",
        "        self.conv1=nn.Sequential(   \n",
        "            nn.Conv2d(   \n",
        "                in_channels=3,   \n",
        "                out_channels=16,   \n",
        "                kernel_size=5,   \n",
        "                stride=1,   \n",
        "                padding=2,   \n",
        "            ),   #(3,32,32)-->(16,32,32)\n",
        "            nn.ReLU(),   \n",
        "            nn.MaxPool2d(kernel_size=2),  #(16,32,32)-->(16,16,16)\n",
        "        )\n",
        "        self.conv2=nn.Sequential(   \n",
        "            nn.Conv2d(16,32,5,1,2),  # (16,16,16) -->(32,16,16)\n",
        "            nn.ReLU(),\n",
        "            nn.MaxPool2d(2),   # (32,16,16)-->(32,8,8)\n",
        "        )\n",
        "        self.conv3=nn.Sequential(\n",
        "            nn.Conv2d(32,64,5,1,2),   #(32,8,8)-->(64,8,8)\n",
        "            nn.ReLU(),\n",
        "            nn.MaxPool2d(2),   #(64,8,8)-->(64,4,4)\n",
        "        )\n",
        "        self.out=nn.Linear(64*4*4,10)  \n",
        "    def forward(self,x):\n",
        "        x=self.conv1(x)\n",
        "        x=self.conv2(x)\n",
        "        x=self.conv3(x)\n",
        "        x=x.view(-1,64*4*4,)   \n",
        "        output=self.out(x)\n",
        "        return output\n",
        "net=Net()\n",
        "criterion=nn.CrossEntropyLoss()   \n",
        "optimizer=optim.Adam(net.parameters(),lr=0.001)   \n",
        "if __name__=='__main__':\n",
        "    correct = 0\n",
        "    total = 0\n",
        "    for epoch in range(15):   \n",
        "        for data in trainloader:\n",
        "            inputs,labels=data\n",
        "            outputs=net(inputs)\n",
        "            loss=criterion(outputs,labels)   \n",
        "            predicted = torch.max(outputs, 1)[1].data.numpy()\n",
        "            total += labels.size(0)\n",
        "            correct += (predicted == labels.data.numpy()).sum()\n",
        "            optimizer.zero_grad()   \n",
        "            optimizer.step()   \n",
        "    print('train loss: %d%%' % (100 * correct / total))\n",
        "    correct = 0\n",
        "    total = 0\n",
        "    for i,data in enumerate(testloader):   \n",
        "        images,labels=data\n",
        "        outputs=net(images)\n",
        "        predicted=torch.max(outputs,1)[1].data.numpy()\n",
        "        total+=labels.size(0)\n",
        "        correct+=(predicted==labels.data.numpy()).sum()\n",
        "    print('test loss: %d%%' % (100 * correct / total))\n",
        " "
      ]
    },
    {
      "cell_type": "code",
      "source": [
        "class_correct = list(0. for i in range(10))\n",
        "class_total = list(0. for i in range(10))\n",
        "with torch.no_grad():\n",
        "    for data in testloader:\n",
        "        images, labels = data\n",
        "        outputs = net(images)\n",
        "        _, predicted = torch.max(outputs, 1)\n",
        "        c = (predicted == labels).squeeze()\n",
        "        for i in range(4):\n",
        "            label = labels[i]\n",
        "            class_correct[label] += c[i].item()\n",
        "            class_total[label] += 1\n",
        "\n",
        "\n",
        "for i in range(10):\n",
        "    print('Accuracy of %5s : %2d %%' % (\n",
        "        classes[i], 100 * class_correct[i] / class_total[i]))\n"
      ],
      "metadata": {
        "colab": {
          "base_uri": "https://localhost:8080/"
        },
        "id": "xwL5R3B6uFPu",
        "outputId": "ee29e528-1c73-4ea5-e8a0-66ea3ac8b09e"
      },
      "execution_count": 9,
      "outputs": [
        {
          "output_type": "stream",
          "name": "stdout",
          "text": [
            "Accuracy of plane : 72 %\n",
            "Accuracy of   car : 82 %\n",
            "Accuracy of  bird : 61 %\n",
            "Accuracy of   cat : 61 %\n",
            "Accuracy of  deer : 71 %\n",
            "Accuracy of   dog : 64 %\n",
            "Accuracy of  frog : 76 %\n",
            "Accuracy of horse : 81 %\n",
            "Accuracy of  ship : 87 %\n",
            "Accuracy of truck : 82 %\n"
          ]
        }
      ]
    }
  ]
}