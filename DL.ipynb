{
  "nbformat": 4,
  "nbformat_minor": 0,
  "metadata": {
    "colab": {
      "name": "DL.ipynb",
      "provenance": [],
      "authorship_tag": "ABX9TyOeBOxWQi9iZpN5wVDOvOqP",
      "include_colab_link": true
    },
    "kernelspec": {
      "name": "python3",
      "display_name": "Python 3"
    },
    "language_info": {
      "name": "python"
    },
    "accelerator": "GPU"
  },
  "cells": [
    {
      "cell_type": "markdown",
      "metadata": {
        "id": "view-in-github",
        "colab_type": "text"
      },
      "source": [
        "<a href=\"https://colab.research.google.com/github/yanting04/getting-started/blob/master/DL.ipynb\" target=\"_parent\"><img src=\"https://colab.research.google.com/assets/colab-badge.svg\" alt=\"Open In Colab\"/></a>"
      ]
    },
    {
      "cell_type": "code",
      "execution_count": 8,
      "metadata": {
        "colab": {
          "base_uri": "https://localhost:8080/"
        },
        "id": "6tIKPDSPF5Iy",
        "outputId": "dc6458be-d957-4c39-b58b-1bc277640be9"
      },
      "outputs": [
        {
          "output_type": "stream",
          "name": "stdout",
          "text": [
            "Mounted at /content/gdrive\n"
          ]
        }
      ],
      "source": [
        "from google.colab import drive\n",
        "drive.mount('/content/gdrive')"
      ]
    },
    {
      "cell_type": "code",
      "source": [
        "import torch\n",
        "import torchvision\n",
        "import torchvision.transforms as transforms\n",
        "import time\n",
        "import copy\n",
        "import numpy as np\n",
        "import pandas as pd\n",
        "import matplotlib.pyplot as plt\n",
        "from torch.optim import lr_scheduler\n",
        "import torch.nn.functional as F\n",
        "import torch.nn as nn\n",
        "import torchvision.models as models\n",
        "from torch.utils.data.sampler import SubsetRandomSampler\n",
        "device =torch.device(\"cuda:0\" if torch.cuda.is_available() else \"cpu\")\n",
        "transform = transforms.Compose(\n",
        "    [transforms.ToTensor(),\n",
        "     transforms.Normalize((0.5, 0.5, 0.5), (0.5, 0.5, 0.5))])\n",
        "\n",
        "trainset = torchvision.datasets.CIFAR10(root='./data', train=True,\n",
        "                                        download=True, transform=transform)\n",
        "trainloader = torch.utils.data.DataLoader(trainset, batch_size=512,\n",
        "                                          shuffle=True, num_workers=2)\n",
        "\n",
        "testset = torchvision.datasets.CIFAR10(root='./data', train=False,\n",
        "                                       download=True, transform=transform)\n",
        "testloader = torch.utils.data.DataLoader(testset, batch_size=512,\n",
        "                                         shuffle=False, num_workers=2)\n",
        "\n",
        "classes = ('plane', 'car', 'bird', 'cat',\n",
        "           'deer', 'dog', 'frog', 'horse', 'ship', 'truck')"
      ],
      "metadata": {
        "colab": {
          "base_uri": "https://localhost:8080/"
        },
        "id": "ukxR0F2KGBR4",
        "outputId": "1a8895c4-7058-4c92-aeb3-5f59cd652661"
      },
      "execution_count": 9,
      "outputs": [
        {
          "output_type": "stream",
          "name": "stdout",
          "text": [
            "Files already downloaded and verified\n",
            "Files already downloaded and verified\n"
          ]
        }
      ]
    },
    {
      "cell_type": "code",
      "source": [
        "class Vgg16_net(nn.Module):\n",
        "    def __init__(self):\n",
        "        super(Vgg16_net, self).__init__()\n",
        "\n",
        "\n",
        "        self.layer1=nn.Sequential(\n",
        "            nn.Conv2d(in_channels=3,out_channels=64,kernel_size=3,stride=1,padding=1), #(32-3+2)/1+1=32   32*32*64\n",
        "            nn.BatchNorm2d(64),\n",
        "            \n",
        "            nn.ReLU(inplace=True),\n",
        "            \n",
        "\n",
        "            nn.Conv2d(in_channels=64,out_channels=64,kernel_size=3,stride=1,padding=1), #(32-3+2)/1+1=32    32*32*64\n",
        "            \n",
        "            # On the one hand, the data distribution is made consistent, and on the other hand, the gradient disappears.\n",
        "            nn.BatchNorm2d(64),\n",
        "            nn.ReLU(inplace=True),\n",
        "\n",
        "            nn.MaxPool2d(kernel_size=2,stride=2)   #(32-2)/2+1=16         16*16*64\n",
        "        )\n",
        "\n",
        "\n",
        "        self.layer2=nn.Sequential(\n",
        "            nn.Conv2d(in_channels=64,out_channels=128,kernel_size=3,stride=1,padding=1),  #(16-3+2)/1+1=16  16*16*128\n",
        "            nn.BatchNorm2d(128),\n",
        "            nn.ReLU(inplace=True),\n",
        "\n",
        "            nn.Conv2d(in_channels=128,out_channels=128,kernel_size=3,stride=1,padding=1), #(16-3+2)/1+1=16   16*16*128\n",
        "            nn.BatchNorm2d(128),\n",
        "            nn.ReLU(inplace=True),\n",
        "\n",
        "            nn.MaxPool2d(2,2)    #(16-2)/2+1=8     8*8*128\n",
        "        )\n",
        "\n",
        "        self.layer3=nn.Sequential(\n",
        "            nn.Conv2d(in_channels=128,out_channels=256,kernel_size=3,stride=1,padding=1),  #(8-3+2)/1+1=8   8*8*256\n",
        "            nn.BatchNorm2d(256),\n",
        "            nn.ReLU(inplace=True),\n",
        "\n",
        "\n",
        "            nn.Conv2d(in_channels=256,out_channels=256,kernel_size=3,stride=1,padding=1),  #(8-3+2)/1+1=8   8*8*256\n",
        "            nn.BatchNorm2d(256),\n",
        "            nn.ReLU(inplace=True),\n",
        "\n",
        "            nn.Conv2d(in_channels=256,out_channels=256,kernel_size=3,stride=1,padding=1),  #(8-3+2)/1+1=8   8*8*256\n",
        "            nn.BatchNorm2d(256),\n",
        "            nn.ReLU(inplace=True),\n",
        "\n",
        "            nn.MaxPool2d(2,2)     #(8-2)/2+1=4      4*4*256\n",
        "        )\n",
        "\n",
        "        self.layer4=nn.Sequential(\n",
        "            nn.Conv2d(in_channels=256,out_channels=512,kernel_size=3,stride=1,padding=1),  #(4-3+2)/1+1=4    4*4*512\n",
        "            nn.BatchNorm2d(512),\n",
        "            nn.ReLU(inplace=True),\n",
        "\n",
        "            nn.Conv2d(in_channels=512,out_channels=512,kernel_size=3,stride=1,padding=1),   #(4-3+2)/1+1=4    4*4*512\n",
        "            nn.BatchNorm2d(512),\n",
        "            nn.ReLU(inplace=True),\n",
        "\n",
        "            nn.Conv2d(in_channels=512,out_channels=512,kernel_size=3,stride=1,padding=1),   #(4-3+2)/1+1=4    4*4*512\n",
        "            nn.BatchNorm2d(512),\n",
        "            nn.ReLU(inplace=True),\n",
        "\n",
        "            nn.MaxPool2d(2,2)    #(4-2)/2+1=2     2*2*512\n",
        "        )\n",
        "\n",
        "        self.layer5=nn.Sequential(\n",
        "            nn.Conv2d(in_channels=512,out_channels=512,kernel_size=3,stride=1,padding=1),   #(2-3+2)/1+1=2    2*2*512\n",
        "            nn.BatchNorm2d(512),\n",
        "            nn.ReLU(inplace=True),\n",
        "\n",
        "            nn.Conv2d(in_channels=512,out_channels=512,kernel_size=3,stride=1,padding=1),  #(2-3+2)/1+1=2     2*2*512\n",
        "            nn.BatchNorm2d(512),\n",
        "            nn.ReLU(inplace=True),\n",
        "\n",
        "            nn.Conv2d(in_channels=512,out_channels=512,kernel_size=3,stride=1,padding=1),  #(2-3+2)/1+1=2      2*2*512\n",
        "            nn.BatchNorm2d(512),\n",
        "            nn.ReLU(inplace=True),\n",
        "\n",
        "            nn.MaxPool2d(2,2)   #(2-2)/2+1=1      1*1*512\n",
        "        )\n",
        "\n",
        "\n",
        "        self.conv=nn.Sequential(\n",
        "            self.layer1,\n",
        "            self.layer2,\n",
        "            self.layer3,\n",
        "            self.layer4,\n",
        "            self.layer5\n",
        "        )\n",
        "\n",
        "        self.fc=nn.Sequential(\n",
        "            \n",
        "            nn.Linear(512,512),\n",
        "            nn.ReLU(inplace=True),\n",
        "            nn.Dropout(0.5),\n",
        "\n",
        "            nn.Linear(512,256),\n",
        "            nn.ReLU(inplace=True),\n",
        "            nn.Dropout(0.5),\n",
        "\n",
        "            nn.Linear(256,10)\n",
        "        )\n",
        "\n",
        "\n",
        "    def forward(self,x):\n",
        "        x=self.conv(x)\n",
        "        \n",
        "        x = x.view(-1, 512)\n",
        "        x=self.fc(x)\n",
        "        return x\n",
        "\n",
        "\n",
        "    def initialize_weights(self):\n",
        "        for m in self.modules():\n",
        "            if isinstance(m, nn.Conv2d):\n",
        "                torch.nn.init.xavier_normal_(m.weight.data)\n",
        "                if m.bias is not None:\n",
        "                    m.bias.data.zero_()\n",
        "            elif isinstance(m, nn.BatchNorm2d):\n",
        "                m.weight.data.fill_(1)\n",
        "                m.bias.data.zero_()\n",
        "            elif isinstance(m, nn.Linear):\n",
        "                torch.nn.init.normal_(m.weight.data, 0, 0.01)\n",
        "                m.bias.data.zero_()\n",
        "                "
      ],
      "metadata": {
        "id": "Q-Z_cQuNGCSy"
      },
      "execution_count": 10,
      "outputs": []
    },
    {
      "cell_type": "code",
      "source": [
        "class Net(nn.Module):\n",
        "    def __init__(self):\n",
        "        super(Net,self).__init__()\n",
        "        self.conv1=nn.Sequential(   \n",
        "            nn.Conv2d(   \n",
        "                in_channels=3,   \n",
        "                out_channels=16,   \n",
        "                kernel_size=5,   \n",
        "                stride=1,   \n",
        "                padding=2,   #padding=(kernel_size-1)/2\n",
        "            ),   #(3,32,32)-->(16,32,32)\n",
        "            nn.ReLU(),   \n",
        "            nn.MaxPool2d(kernel_size=2),   #  (16,32,32)-->(16,16,16)\n",
        "        )\n",
        "        self.conv2=nn.Sequential(   \n",
        "            nn.Conv2d(16,32,5,1,2),  # (16,16,16) -->(32,16,16)\n",
        "            nn.ReLU(),\n",
        "            nn.MaxPool2d(2),   # (32,16,16)-->(32,8,8)\n",
        "        )\n",
        "        self.conv3=nn.Sequential(\n",
        "            nn.Conv2d(32,64,5,1,2),   #(32,8,8)-->(64,8,8)\n",
        "            nn.ReLU(),\n",
        "            nn.MaxPool2d(2),   #(64,8,8)-->(64,4,4)\n",
        "        )\n",
        "        self.out=nn.Linear(64*4*4,10)   # （1，10）\n",
        "    def forward(self,x):\n",
        "        x=self.conv1(x)\n",
        "        x=self.conv2(x)\n",
        "        x=self.conv3(x)\n",
        "        x=x.view(-1,64*4*4,)   #\n",
        "        output=self.out(x)\n",
        "        return output\n",
        "   \n",
        "    def initialize_weights(self):\n",
        "        for m in self.modules():\n",
        "            if isinstance(m, nn.Conv2d):\n",
        "                torch.nn.init.xavier_normal_(m.weight.data)\n",
        "                if m.bias is not None:\n",
        "                    m.bias.data.zero_()\n",
        "            elif isinstance(m, nn.BatchNorm2d):\n",
        "                m.weight.data.fill_(1)\n",
        "                m.bias.data.zero_()\n",
        "            elif isinstance(m, nn.Linear):\n",
        "                torch.nn.init.normal_(m.weight.data, 0, 0.01)\n",
        "                m.bias.data.zero_()"
      ],
      "metadata": {
        "id": "dMEHH3NlGHRN"
      },
      "execution_count": 11,
      "outputs": []
    },
    {
      "cell_type": "code",
      "source": [
        "device"
      ],
      "metadata": {
        "colab": {
          "base_uri": "https://localhost:8080/"
        },
        "id": "lrQlVw-LHsXI",
        "outputId": "bc65b0c9-5c24-4af1-af59-b380dbf48e47"
      },
      "execution_count": 12,
      "outputs": [
        {
          "output_type": "execute_result",
          "data": {
            "text/plain": [
              "device(type='cuda', index=0)"
            ]
          },
          "metadata": {},
          "execution_count": 12
        }
      ]
    },
    {
      "cell_type": "code",
      "source": [
        "teacher_model = Vgg16_net().to(device)\n",
        "student_model = Net().to(device)\n",
        "teacher_model = torch.load(\"/content/gdrive/MyDrive/teacher.pth\").to(device)#加载权重文件"
      ],
      "metadata": {
        "id": "aRWJcXkUGJXH"
      },
      "execution_count": 13,
      "outputs": []
    },
    {
      "cell_type": "code",
      "source": [
        "import torch.optim as optim\n",
        "criterion = nn.CrossEntropyLoss().to(device)\n",
        "criterion2 = nn.KLDivLoss().to(device)\n",
        "optimizer = optim.Adam(student_model.parameters(),lr = 0.001)\n",
        "for epoch in range(100):\n",
        "    loss_sigma = 0.0\n",
        "    correct = 0.0\n",
        "    total = 0.0\n",
        "    T=2\n",
        "    alpha = 0.5\n",
        "    for i, data in enumerate(trainloader,0):\n",
        "        inputs, labels = data\n",
        "        optimizer.zero_grad()\n",
        "        outputs = student_model(inputs.float().to(device))\n",
        "        loss1 = criterion(outputs.to(device), labels.to(device))\n",
        "        teacher_outputs = teacher_model(inputs.float().to(device))\n",
        "        outputs_S = F.softmax(outputs/T,dim=1)\n",
        "        outputs_T = F.softmax(teacher_outputs/T,dim=1)\n",
        "        loss2 = criterion2(outputs_S.to(device),outputs_T.to(device))*T*T\n",
        "        loss = loss1*(1-alpha) + loss2*alpha\n",
        "        loss.backward()\n",
        "        optimizer.step()\n",
        "        _, predicted = torch.max(outputs.data, dim = 1)\n",
        "        total += labels.size(0)\n",
        "        correct += (predicted.cpu()==labels.cpu()).squeeze().sum().numpy()\n",
        "        loss_sigma += loss.item()\n",
        "    print('Epohc :{}  Loss:{:.2}   Acc:{:.2%}'.format(epoch ,loss_sigma, correct/total))\n",
        "    loss_sigma = 0.0"
      ],
      "metadata": {
        "colab": {
          "base_uri": "https://localhost:8080/"
        },
        "id": "IVsFJN1MGLyQ",
        "outputId": "5f0c943b-5163-485f-e2ea-b8bea0ec9bb5"
      },
      "execution_count": null,
      "outputs": [
        {
          "output_type": "stream",
          "name": "stderr",
          "text": [
            "/usr/local/lib/python3.7/dist-packages/torch/nn/functional.py:2748: UserWarning: reduction: 'mean' divides the total loss by both the batch size and the support size.'batchmean' divides only by the batch size, and aligns with the KL div math definition.'mean' will be changed to behave the same as 'batchmean' in the next major release.\n",
            "  \"reduction: 'mean' divides the total loss by both the batch size and the support size.\"\n"
          ]
        },
        {
          "output_type": "stream",
          "name": "stdout",
          "text": [
            "Epohc :0  Loss:7.9e+01   Acc:35.90%\n",
            "Epohc :1  Loss:6.2e+01   Acc:48.30%\n",
            "Epohc :2  Loss:5.4e+01   Acc:53.93%\n",
            "Epohc :3  Loss:4.8e+01   Acc:58.11%\n",
            "Epohc :4  Loss:4.3e+01   Acc:61.54%\n",
            "Epohc :5  Loss:3.9e+01   Acc:63.85%\n",
            "Epohc :6  Loss:3.6e+01   Acc:66.18%\n",
            "Epohc :7  Loss:3.3e+01   Acc:67.80%\n",
            "Epohc :8  Loss:3.1e+01   Acc:69.18%\n",
            "Epohc :9  Loss:2.9e+01   Acc:70.85%\n",
            "Epohc :10  Loss:2.7e+01   Acc:71.90%\n",
            "Epohc :11  Loss:2.5e+01   Acc:73.04%\n",
            "Epohc :12  Loss:2.3e+01   Acc:74.08%\n",
            "Epohc :13  Loss:2.2e+01   Acc:74.72%\n",
            "Epohc :14  Loss:2e+01   Acc:75.97%\n",
            "Epohc :15  Loss:1.9e+01   Acc:77.13%\n",
            "Epohc :16  Loss:1.7e+01   Acc:77.96%\n"
          ]
        }
      ]
    },
    {
      "cell_type": "code",
      "source": [
        "correct = 0\n",
        "total = 0\n",
        "with torch.no_grad():\n",
        "    for data in testloader:\n",
        "        images, labels = data\n",
        "        outputs = student_model(images.float().to(device))\n",
        "        _, predicted = torch.max(outputs.data, 1)\n",
        "        total += labels.size(0)\n",
        "        correct += (predicted.cpu()==labels.cpu()).squeeze().sum().numpy()\n",
        "print('Accuracy of the network on the test images: %d %%' % (\n",
        "    100 * correct / total))"
      ],
      "metadata": {
        "colab": {
          "base_uri": "https://localhost:8080/"
        },
        "id": "FF_KlKQ7GPJ9",
        "outputId": "86da5634-c075-4523-8963-be90bc275589"
      },
      "execution_count": 6,
      "outputs": [
        {
          "output_type": "stream",
          "name": "stdout",
          "text": [
            "Accuracy of the network on the test images: 10 %\n"
          ]
        }
      ]
    },
    {
      "cell_type": "code",
      "source": [
        "class_correct = list(0. for i in range(10))\n",
        "class_total = list(0. for i in range(10))\n",
        "with torch.no_grad():\n",
        "    for data in testloader:\n",
        "        images, labels = data\n",
        "        outputs = student_model(images.float().to(device))\n",
        "        _, predicted = torch.max(outputs, 1)\n",
        "        c = (predicted.cpu()==labels.cpu()).squeeze()\n",
        "        for i in range(len(labels)):\n",
        "            label = labels[i]\n",
        "            class_correct[label] += c[i].item()\n",
        "            class_total[label] += 1\n",
        "for i in range(10):\n",
        "    print('Accuracy of %5s : %2d %%' % (\n",
        "        classes[i], 100 * class_correct[i] / class_total[i]))"
      ],
      "metadata": {
        "colab": {
          "base_uri": "https://localhost:8080/"
        },
        "id": "o2hR5c0AGRvS",
        "outputId": "3b076d1a-d83e-4546-bf4b-23840f03e36a"
      },
      "execution_count": 7,
      "outputs": [
        {
          "output_type": "stream",
          "name": "stdout",
          "text": [
            "Accuracy of plane :  0 %\n",
            "Accuracy of   car :  0 %\n",
            "Accuracy of  bird :  0 %\n",
            "Accuracy of   cat :  0 %\n",
            "Accuracy of  deer :  0 %\n",
            "Accuracy of   dog :  0 %\n",
            "Accuracy of  frog :  0 %\n",
            "Accuracy of horse :  0 %\n",
            "Accuracy of  ship : 26 %\n",
            "Accuracy of truck : 81 %\n"
          ]
        }
      ]
    }
  ]
}